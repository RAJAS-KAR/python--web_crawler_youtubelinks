{
  "nbformat": 4,
  "nbformat_minor": 0,
  "metadata": {
    "colab": {
      "provenance": [],
      "authorship_tag": "ABX9TyNNIQq+QXf3kqJ1cPTPdfVA",
      "include_colab_link": true
    },
    "kernelspec": {
      "name": "python3",
      "display_name": "Python 3"
    },
    "language_info": {
      "name": "python"
    }
  },
  "cells": [
    {
      "cell_type": "markdown",
      "metadata": {
        "id": "view-in-github",
        "colab_type": "text"
      },
      "source": [
        "<a href=\"https://colab.research.google.com/github/RAJAS-KAR/python--web_crawler_youtubelinks/blob/main/web_crawling.ipynb\" target=\"_parent\"><img src=\"https://colab.research.google.com/assets/colab-badge.svg\" alt=\"Open In Colab\"/></a>"
      ]
    },
    {
      "cell_type": "code",
      "execution_count": null,
      "metadata": {
        "colab": {
          "base_uri": "https://localhost:8080/"
        },
        "id": "PnZSn0cT7S91",
        "outputId": "f321d56b-2ac3-40bc-c440-3b64621b59ce"
      },
      "outputs": [
        {
          "output_type": "stream",
          "name": "stdout",
          "text": [
            "Requirement already satisfied: beautifulsoup4 in /usr/local/lib/python3.10/dist-packages (4.11.2)\n",
            "Requirement already satisfied: soupsieve>1.2 in /usr/local/lib/python3.10/dist-packages (from beautifulsoup4) (2.4.1)\n",
            "Requirement already satisfied: requests in /usr/local/lib/python3.10/dist-packages (2.27.1)\n",
            "Requirement already satisfied: urllib3<1.27,>=1.21.1 in /usr/local/lib/python3.10/dist-packages (from requests) (1.26.16)\n",
            "Requirement already satisfied: certifi>=2017.4.17 in /usr/local/lib/python3.10/dist-packages (from requests) (2023.5.7)\n",
            "Requirement already satisfied: charset-normalizer~=2.0.0 in /usr/local/lib/python3.10/dist-packages (from requests) (2.0.12)\n",
            "Requirement already satisfied: idna<4,>=2.5 in /usr/local/lib/python3.10/dist-packages (from requests) (3.4)\n",
            "Requirement already satisfied: xlml in /usr/local/lib/python3.10/dist-packages (0.1.2)\n"
          ]
        }
      ],
      "source": [
        "!pip install beautifulsoup4\n",
        "!pip install requests\n",
        "!pip install xlml"
      ]
    },
    {
      "cell_type": "code",
      "source": [
        "import requests\n",
        "import lxml\n",
        "from bs4 import BeautifulSoup\n",
        "import json"
      ],
      "metadata": {
        "id": "Wmh35OlbcfH5"
      },
      "execution_count": 1,
      "outputs": []
    },
    {
      "cell_type": "code",
      "source": [
        "# Define the function to perform the Google search and scrape YouTube links\n",
        "def google_search(query, num_results):\n",
        " # Create an empty list to store the YouTube links\n",
        "    results = []\n",
        "\n",
        "    #provided query and number of results\n",
        "\n",
        "    url = f\"https://www.google.com/search?q={query}&num={num_results}\"\n",
        "    while len(results) < num_results:\n",
        "        response = requests.get(url) #GET request to the Google search URL\n",
        "        soup = BeautifulSoup(response.text, 'html.parser')\n",
        "        search_results = soup.find_all('div', {'class': 'kCrYT'})\n",
        "\n",
        "        for result in search_results:\n",
        "            if len(results) == num_results:\n",
        "                break\n",
        "#Extract the URL link from the search result <a> tag\n",
        "            link = result.find('a')['href']\n",
        "\n",
        "            if 'youtube.com' in link:\n",
        "                results.append(link)\n",
        "            next_button = soup.find('a', {'class': 'pn'})\n",
        "             # If there is a next button, update the URL to the next page\n",
        "            if next_button:\n",
        "              url = 'https://www.google.com' + next_button['href']\n",
        "            else:\n",
        "              break #If there is no next button, break\n",
        "\n",
        "    return results #Return the collected YouTube links\n",
        "\n",
        ""
      ],
      "metadata": {
        "id": "ZCCwQRPedH71"
      },
      "execution_count": 5,
      "outputs": []
    },
    {
      "cell_type": "code",
      "source": [
        "# Set the search query and number of results\n",
        "search_query = \"site:youtube.com openinapp.co\"\n",
        "num_results = 1000\n",
        "\n",
        "#Call the google_search function with the provided query\n",
        "search_results = google_search(search_query, num_results)"
      ],
      "metadata": {
        "id": "acsuFwAzyJwh"
      },
      "execution_count": 8,
      "outputs": []
    },
    {
      "cell_type": "code",
      "source": [
        "# Save results in JSON format\n",
        "\n",
        "Links = {'YouTube links': search_results}\n",
        "\n",
        "with open('youtube_links.json', 'w') as file:\n",
        "    json.dump(Links, file, indent=4)\n",
        "\n",
        "print(\"Results saved in 'youtube_links.json' file.\")"
      ],
      "metadata": {
        "colab": {
          "base_uri": "https://localhost:8080/"
        },
        "id": "11UaOtWQf7bT",
        "outputId": "2c56458f-9794-4748-a06a-3f3e9a6bc0ce"
      },
      "execution_count": 13,
      "outputs": [
        {
          "output_type": "stream",
          "name": "stdout",
          "text": [
            "Results saved in 'youtube_links.json' file.\n"
          ]
        }
      ]
    },
    {
      "cell_type": "code",
      "source": [
        "import csv\n",
        "# Save results in CSV format\n",
        "with open('youtube_links.csv', 'w', newline='', encoding='utf-8') as file:\n",
        "    writer = csv.writer(file)\n",
        "    writer.writerow(['YouTube links'])\n",
        "    for link in search_results:\n",
        "        writer.writerow([link])\n",
        "print(\"Results saved in 'youtube_links.csv' file.\")\n"
      ],
      "metadata": {
        "colab": {
          "base_uri": "https://localhost:8080/"
        },
        "id": "F0BXmWuRXu4N",
        "outputId": "eca9bcdf-2daa-4806-ec95-9476d8dd0850"
      },
      "execution_count": 12,
      "outputs": [
        {
          "output_type": "stream",
          "name": "stdout",
          "text": [
            "Results saved in 'youtube_links.csv' file.\n"
          ]
        }
      ]
    }
  ]
}